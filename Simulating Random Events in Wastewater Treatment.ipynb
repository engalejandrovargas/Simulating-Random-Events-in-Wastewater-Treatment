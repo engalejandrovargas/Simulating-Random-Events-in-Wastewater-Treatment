{
 "cells": [
  {
   "cell_type": "markdown",
   "id": "38550d90",
   "metadata": {},
   "source": [
    "# GPS-X with Python: Controlling Wastewater Treatment Simulation\n",
    "\n",
    "This Python script is designed to control a wastewater treatment plant simulation in GPS-X. It introduces random events like rainfall and controls the influent flow rate to the plant.\n",
    "\n",
    "## User Inputs\n",
    "\n",
    "The `USER INPUTS` section defines variables that will be used throughout the script.\n",
    "\n",
    "- **RainInflow**: A list containing different rates of rainfall in mm/hr.\n",
    "- **CommInt**: Communication interval for the simulation.\n",
    "- **StopTime**: The time at which the simulation will stop.\n",
    "- **Count**: A counter variable initialized to 0.\n",
    "- **MaxAeratorFlow**: The maximum flow rate that the aerator can handle.\n",
    "\n",
    "## Functions\n",
    "\n",
    "The `FUNCTIONS` section contains three main functions:\n",
    "\n",
    "1. **start()**: Initializes the simulation settings.\n",
    "2. **cint()**: Called at each communication interval to update the simulation.\n",
    "3. **eor()**: Called at the end of the simulation run."
   ]
  },
  {
   "cell_type": "code",
   "execution_count": 1,
   "id": "b20adbf7",
   "metadata": {},
   "outputs": [],
   "source": [
    "# USER INPUTS\n",
    "RainInflow = [0, 0.0025, 0.005, 0.0075, 0.01]  # Rainfall rates in mm/hr\n",
    "CommInt = 0.05  # Communication interval\n",
    "StopTime = 50.0  # Simulation stop time\n",
    "Count = 0  # Counter variable\n",
    "MaxAeratorFlow = 4000  # Maximum flow rate for the aerator\n",
    "\n",
    "# FUNCTIONS\n",
    "\n",
    "# Initialize the simulation settings\n",
    "def start():\n",
    "    global CommInt, StopTime\n",
    "    gpsx.setTstop(StopTime)  # Set the simulation stop time\n",
    "    gpsx.setCint(CommInt)  # Set the communication interval\n",
    "    gpsx.setValue('qconbypass', 0.0)  # Initialize the bypass flow rate to 0\n",
    "\n",
    "# Called at each communication interval\n",
    "def cint():\n",
    "    global RainInflow, MaxAeratorFlow, Count\n",
    "    import random  # Import the random library\n",
    "    RainProbability = random.randint(1, 100)  # Generate a random number between 1 and 100\n",
    "    \n",
    "    # Reset the counter if it reaches 1\n",
    "    if Count == 1.0:\n",
    "        Count = 0\n",
    "\n",
    "        # Set the rainfall rate based on the random number generated\n",
    "        if RainProbability <= 85:\n",
    "            gpsx.setValue(\"rainfallrain\", RainInflow[0])\n",
    "        elif RainProbability > 85 and RainProbability <= 90:\n",
    "            gpsx.setValue(\"rainfallrain\", RainInflow[1])\n",
    "        elif RainProbability > 90 and RainProbability <= 95:\n",
    "            gpsx.setValue(\"rainfallrain\", RainInflow[2])\n",
    "        elif RainProbability > 95 and RainProbability <= 98:\n",
    "            gpsx.setValue(\"rainfallrain\", RainInflow[3])\n",
    "        else:\n",
    "            gpsx.setValue(\"rainfallrain\", RainInflow[4])\n",
    "\n",
    "    # Get the current influent flow rate\n",
    "    Inflow = gpsx.getValue('qmixinf')\n",
    "\n",
    "    # Control the bypass flow rate based on the current influent flow rate\n",
    "    if Inflow > MaxAeratorFlow:\n",
    "        gpsx.setValue('qconbypass', (Inflow - MaxAeratorFlow))\n",
    "    else:\n",
    "        gpsx.setValue('qconbypass', 0.0)\n",
    "\n",
    "    # Update the counter\n",
    "    Count = round((Count + CommInt), 2)\n",
    "\n",
    "# Called at the end of the simulation run\n",
    "def eor():\n",
    "    global finished\n",
    "    finished = True  # Set the 'finished' flag to True\n",
    "\n",
    "# Run the simulation\n",
    "try:\n",
    "    runSim()\n",
    "except Exception:\n",
    "    pass\n"
   ]
  },
  {
   "cell_type": "markdown",
   "id": "16eb967c",
   "metadata": {},
   "source": [
    "## Results of the simulation"
   ]
  },
  {
   "attachments": {
    "image.png": {
     "image/png": "[encoded data removed]"
    }
   },
   "cell_type": "markdown",
   "id": "41105c43",
   "metadata": {},
   "source": [
    "![image.png](attachment:image.png)"
   ]
  },
  {
   "cell_type": "markdown",
   "id": "6569cfc1",
   "metadata": {},
   "source": [
    "### Variables:\n",
    "- `t`: Time in days\n",
    "- `qmixinf`: Mixed inflow rate in m³/d\n",
    "- `qwwinf`: Wastewater inflow rate in m³/d\n",
    "- `qbypass`: Bypass flow rate in m³/d\n",
    "\n",
    "### Observations:\n",
    "\n",
    "1. **Steady State Initially**: \n",
    "    - For the first 8 days (`t` from 0 to 8), all the rates (`qmixinf`, `qwwinf`, `qbypass`) remain constant. \n",
    "    - Specifically, `qmixinf` and `qwwinf` are at 2000 m³/d, and `qbypass` is at 0 m³/d. \n",
    "    - This suggests a steady state where inflow rates are constant and no bypass is happening.\n",
    "\n",
    "2. **Sudden Increase**: \n",
    "    - At `t = 8.05`, `qmixinf` and `qwwinf` start to increase gradually until they reach around 3167 m³/d at `t = 9.0`. \n",
    "    - This could indicate a sudden event that increased the inflow rates.\n",
    "\n",
    "3. **Decrease and Stabilization**: \n",
    "    - After reaching the peak, the rates start to decrease and stabilize around `t = 13.3` at 3990 m³/d for `qmixinf` and `qwwinf`.\n",
    "\n",
    "4. **Bypass Activation**: \n",
    "    - At `t = 11.3`, `qbypass` starts to show non-zero values, peaking at 2833 m³/d at `t = 12.0`. \n",
    "    - This suggests that a bypass system was activated to handle the extra inflow.\n",
    "\n",
    "5. **Fluctuations**: \n",
    "    - After `t = 13.3`, the rates fluctuate, showing increases and decreases but generally staying within a range. \n",
    "    - This could indicate variable conditions affecting the inflow rates.\n",
    "\n",
    "6. **Return to Steady State**: \n",
    "    - Towards the end of the data set, around `t = 22.2`, the rates seem to be stabilizing again, although the data is incomplete.\n",
    "\n",
    "### Summary:\n",
    "- The system starts in a steady state.\n",
    "- Experiences a sudden increase in inflow rates.\n",
    "- Activates a bypass system to manage the extra inflow.\n",
    "- Goes through a period of fluctuation.\n",
    "- Appears to be returning to a steady state.\n"
   ]
  },
  {
   "cell_type": "code",
   "execution_count": null,
   "id": "0709d339",
   "metadata": {},
   "outputs": [],
   "source": []
  }
 ],
 "metadata": {
  "kernelspec": {
   "display_name": "Python 3 (ipykernel)",
   "language": "python",
   "name": "python3"
  },
  "language_info": {
   "codemirror_mode": {
    "name": "ipython",
    "version": 3
   },
   "file_extension": ".py",
   "mimetype": "text/x-python",
   "name": "python",
   "nbconvert_exporter": "python",
   "pygments_lexer": "ipython3",
   "version": "3.9.12"
  },
  "varInspector": {
   "cols": {
    "lenName": 16,
    "lenType": 16,
    "lenVar": 40
   },
   "kernels_config": {
    "python": {
     "delete_cmd_postfix": "",
     "delete_cmd_prefix": "del ",
     "library": "var_list.py",
     "varRefreshCmd": "print(var_dic_list())"
    },
    "r": {
     "delete_cmd_postfix": ") ",
     "delete_cmd_prefix": "rm(",
     "library": "var_list.r",
     "varRefreshCmd": "cat(var_dic_list()) "
    }
   },
   "types_to_exclude": [
    "module",
    "function",
    "builtin_function_or_method",
    "instance",
    "_Feature"
   ],
   "window_display": false
  }
 },
 "nbformat": 4,
 "nbformat_minor": 5
}
